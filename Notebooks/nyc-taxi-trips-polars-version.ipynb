{
 "cells": [
  {
   "cell_type": "markdown",
   "id": "e3120ef1-739c-4717-9d85-a92cec93c5f0",
   "metadata": {},
   "source": [
    "# New York Taxi Trip"
   ]
  },
  {
   "cell_type": "code",
   "execution_count": 1,
   "id": "4f5eb546-39c3-4a5a-9bb9-568d9ca847c9",
   "metadata": {
    "tags": []
   },
   "outputs": [],
   "source": [
    "# Built-in module:\n",
    "from os import getcwd, listdir, path\n",
    "import sqlite3\n",
    "\n",
    "# Data Manipulation modules:\n",
    "import polars as pl\n",
    "import numpy as np\n",
    "\n",
    "# Visualization\n",
    "import seaborn as sns\n",
    "import matplotlib.pyplot as plt\n",
    "from matplotlib.style import use\n",
    "\n",
    "use('ggplot')"
   ]
  },
  {
   "cell_type": "markdown",
   "id": "8c1a5544-08e7-4e49-afdb-0ca359e67af8",
   "metadata": {},
   "source": [
    "## Setting paths to sqlite database:"
   ]
  },
  {
   "cell_type": "code",
   "execution_count": 2,
   "id": "34557e91-af40-4122-89a4-ae6dc14d6a22",
   "metadata": {
    "tags": []
   },
   "outputs": [],
   "source": [
    "NB_PATH = getcwd()\n",
    "BASE = path.abspath(path.join(NB_PATH, '..'))\n",
    "DATA = path.join(BASE, 'Data')\n",
    "NYC_FP = path.join(DATA, 'NYC-TAXI-TRIP.parquet')"
   ]
  },
  {
   "cell_type": "markdown",
   "id": "67c96ea4-95fe-4464-aebe-867826d3a1a1",
   "metadata": {},
   "source": [
    "Loading all data from sqlite to into polars DataFrame then parse it and write it into parquet file for fast reading:\n",
    "\n",
    "```python\n",
    "DATA_2019 = path.join(DATA, '2019')\n",
    "DBs = listdir(DATA_2019)\n",
    "DFs = list()\n",
    "schema = {'vendorid': pl.Int8, 'passenger_count': pl.Int32, \n",
    "          'trip_distance': pl.Float32, 'ratecodeid': pl.Int8, 'store_and_fwd_flag': pl.String, 'pulocationid': pl.Int32, 'dolocationid': pl.Int32,\n",
    "          'payment_type': pl.Int8, 'fare_amount': pl.Float32, 'extra': pl.Float32, 'mta_tax': pl.Float32, 'tip_amount': pl.Float32, \n",
    "          'tolls_amount': pl.Float32, 'improvement_surcharge': pl.Float32, 'total_amount': pl.Float32, 'congestion_surcharge': pl.Float32}\n",
    "for DB in DBs:\n",
    "    DB_PATH = path.join(DATA_2019, DB)\n",
    "    print(DB_PATH)\n",
    "    SQL_QUERRY = \"SELECT * FROM tripdata\" # This is a SQL query to select tripdata and read it with pandas.\n",
    "    with sqlite3.connect(DB_PATH) as con:\n",
    "        TMP_DF = (\n",
    "            pl\n",
    "            .read_database(SQL_QUERRY, con, schema_overrides=schema)\n",
    "        )\n",
    "    DFs.append(TMP_DF)\n",
    "    del TMP_DF\n",
    "DF = (\n",
    "    pl\n",
    "    .concat(DFs)\n",
    "    .with_columns([\n",
    "        pl.col('tpep_pickup_datetime').str.to_datetime(),\n",
    "        pl.col('tpep_dropoff_datetime').str.to_datetime()\n",
    "    ])\n",
    ")\n",
    "\n",
    "del DFs\n",
    "DF.write_parquet(NYC_FP)\n",
    "del DF\n",
    "```"
   ]
  },
  {
   "cell_type": "code",
   "execution_count": 3,
   "id": "5ce6be33-70d2-43a1-81a5-d3df02b2de0e",
   "metadata": {},
   "outputs": [],
   "source": [
    "DF = pl.read_parquet(NYC_FP)"
   ]
  },
  {
   "cell_type": "markdown",
   "id": "2bbfb037-5b67-41c3-81fd-94805e194304",
   "metadata": {},
   "source": [
    "## Cleaning:"
   ]
  },
  {
   "cell_type": "markdown",
   "id": "2e1e55fe-fcb3-4f3f-917d-6a992ab45a0a",
   "metadata": {},
   "source": [
    "### Inspection"
   ]
  },
  {
   "cell_type": "code",
   "execution_count": 4,
   "id": "21fcd8c3-49d5-4736-aaae-7f162bbaabd8",
   "metadata": {
    "tags": []
   },
   "outputs": [
    {
     "data": {
      "text/html": [
       "<div><style>\n",
       ".dataframe > thead > tr,\n",
       ".dataframe > tbody > tr {\n",
       "  text-align: right;\n",
       "  white-space: pre-wrap;\n",
       "}\n",
       "</style>\n",
       "<small>shape: (5, 18)</small><table border=\"1\" class=\"dataframe\"><thead><tr><th>vendorid</th><th>tpep_pickup_datetime</th><th>tpep_dropoff_datetime</th><th>passenger_count</th><th>trip_distance</th><th>ratecodeid</th><th>store_and_fwd_flag</th><th>pulocationid</th><th>dolocationid</th><th>payment_type</th><th>fare_amount</th><th>extra</th><th>mta_tax</th><th>tip_amount</th><th>tolls_amount</th><th>improvement_surcharge</th><th>total_amount</th><th>congestion_surcharge</th></tr><tr><td>i8</td><td>datetime[μs]</td><td>datetime[μs]</td><td>i32</td><td>f32</td><td>i8</td><td>str</td><td>i32</td><td>i32</td><td>i8</td><td>f32</td><td>f32</td><td>f32</td><td>f32</td><td>f32</td><td>f32</td><td>f32</td><td>f32</td></tr></thead><tbody><tr><td>1</td><td>2019-05-01 00:14:50</td><td>2019-05-01 00:16:48</td><td>1</td><td>0.0</td><td>1</td><td>&quot;N&quot;</td><td>145</td><td>145</td><td>2</td><td>3.0</td><td>0.5</td><td>0.5</td><td>0.0</td><td>0.0</td><td>0.3</td><td>4.3</td><td>0.0</td></tr><tr><td>1</td><td>2019-05-01 00:35:54</td><td>2019-05-01 00:37:27</td><td>1</td><td>1.5</td><td>1</td><td>&quot;N&quot;</td><td>145</td><td>145</td><td>2</td><td>3.0</td><td>0.5</td><td>0.5</td><td>0.0</td><td>0.0</td><td>0.3</td><td>4.3</td><td>0.0</td></tr><tr><td>1</td><td>2019-05-01 00:37:45</td><td>2019-05-01 00:37:49</td><td>1</td><td>1.5</td><td>1</td><td>&quot;N&quot;</td><td>145</td><td>145</td><td>2</td><td>2.5</td><td>0.5</td><td>0.5</td><td>0.0</td><td>0.0</td><td>0.3</td><td>3.8</td><td>0.0</td></tr><tr><td>1</td><td>2019-05-01 00:44:57</td><td>2019-05-01 00:50:11</td><td>1</td><td>0.7</td><td>1</td><td>&quot;N&quot;</td><td>161</td><td>161</td><td>2</td><td>5.0</td><td>3.0</td><td>0.5</td><td>0.0</td><td>0.0</td><td>0.3</td><td>8.8</td><td>2.5</td></tr><tr><td>1</td><td>2019-05-01 00:59:48</td><td>2019-05-01 01:10:22</td><td>1</td><td>2.0</td><td>1</td><td>&quot;N&quot;</td><td>163</td><td>141</td><td>1</td><td>9.5</td><td>3.0</td><td>0.5</td><td>2.0</td><td>0.0</td><td>0.3</td><td>15.3</td><td>2.5</td></tr></tbody></table></div>"
      ],
      "text/plain": [
       "shape: (5, 18)\n",
       "┌──────────┬───────────┬───────────┬───────────┬───┬───────────┬───────────┬───────────┬───────────┐\n",
       "│ vendorid ┆ tpep_pick ┆ tpep_drop ┆ passenger ┆ … ┆ tolls_amo ┆ improveme ┆ total_amo ┆ congestio │\n",
       "│ ---      ┆ up_dateti ┆ off_datet ┆ _count    ┆   ┆ unt       ┆ nt_surcha ┆ unt       ┆ n_surchar │\n",
       "│ i8       ┆ me        ┆ ime       ┆ ---       ┆   ┆ ---       ┆ rge       ┆ ---       ┆ ge        │\n",
       "│          ┆ ---       ┆ ---       ┆ i32       ┆   ┆ f32       ┆ ---       ┆ f32       ┆ ---       │\n",
       "│          ┆ datetime[ ┆ datetime[ ┆           ┆   ┆           ┆ f32       ┆           ┆ f32       │\n",
       "│          ┆ μs]       ┆ μs]       ┆           ┆   ┆           ┆           ┆           ┆           │\n",
       "╞══════════╪═══════════╪═══════════╪═══════════╪═══╪═══════════╪═══════════╪═══════════╪═══════════╡\n",
       "│ 1        ┆ 2019-05-0 ┆ 2019-05-0 ┆ 1         ┆ … ┆ 0.0       ┆ 0.3       ┆ 4.3       ┆ 0.0       │\n",
       "│          ┆ 1         ┆ 1         ┆           ┆   ┆           ┆           ┆           ┆           │\n",
       "│          ┆ 00:14:50  ┆ 00:16:48  ┆           ┆   ┆           ┆           ┆           ┆           │\n",
       "│ 1        ┆ 2019-05-0 ┆ 2019-05-0 ┆ 1         ┆ … ┆ 0.0       ┆ 0.3       ┆ 4.3       ┆ 0.0       │\n",
       "│          ┆ 1         ┆ 1         ┆           ┆   ┆           ┆           ┆           ┆           │\n",
       "│          ┆ 00:35:54  ┆ 00:37:27  ┆           ┆   ┆           ┆           ┆           ┆           │\n",
       "│ 1        ┆ 2019-05-0 ┆ 2019-05-0 ┆ 1         ┆ … ┆ 0.0       ┆ 0.3       ┆ 3.8       ┆ 0.0       │\n",
       "│          ┆ 1         ┆ 1         ┆           ┆   ┆           ┆           ┆           ┆           │\n",
       "│          ┆ 00:37:45  ┆ 00:37:49  ┆           ┆   ┆           ┆           ┆           ┆           │\n",
       "│ 1        ┆ 2019-05-0 ┆ 2019-05-0 ┆ 1         ┆ … ┆ 0.0       ┆ 0.3       ┆ 8.8       ┆ 2.5       │\n",
       "│          ┆ 1         ┆ 1         ┆           ┆   ┆           ┆           ┆           ┆           │\n",
       "│          ┆ 00:44:57  ┆ 00:50:11  ┆           ┆   ┆           ┆           ┆           ┆           │\n",
       "│ 1        ┆ 2019-05-0 ┆ 2019-05-0 ┆ 1         ┆ … ┆ 0.0       ┆ 0.3       ┆ 15.3      ┆ 2.5       │\n",
       "│          ┆ 1         ┆ 1         ┆           ┆   ┆           ┆           ┆           ┆           │\n",
       "│          ┆ 00:59:48  ┆ 01:10:22  ┆           ┆   ┆           ┆           ┆           ┆           │\n",
       "└──────────┴───────────┴───────────┴───────────┴───┴───────────┴───────────┴───────────┴───────────┘"
      ]
     },
     "execution_count": 4,
     "metadata": {},
     "output_type": "execute_result"
    }
   ],
   "source": [
    "DF.head()"
   ]
  },
  {
   "cell_type": "markdown",
   "id": "7ffcb6b3-40bc-4652-8b56-44a33ee37b76",
   "metadata": {},
   "source": [
    "### NAs Inspection:"
   ]
  },
  {
   "cell_type": "code",
   "execution_count": 5,
   "id": "541da5ec-da33-4d19-86c7-30c01c9c581a",
   "metadata": {},
   "outputs": [
    {
     "data": {
      "text/html": [
       "<div><style>\n",
       ".dataframe > thead > tr,\n",
       ".dataframe > tbody > tr {\n",
       "  text-align: right;\n",
       "  white-space: pre-wrap;\n",
       "}\n",
       "</style>\n",
       "<small>shape: (1, 18)</small><table border=\"1\" class=\"dataframe\"><thead><tr><th>vendorid</th><th>tpep_pickup_datetime</th><th>tpep_dropoff_datetime</th><th>passenger_count</th><th>trip_distance</th><th>ratecodeid</th><th>store_and_fwd_flag</th><th>pulocationid</th><th>dolocationid</th><th>payment_type</th><th>fare_amount</th><th>extra</th><th>mta_tax</th><th>tip_amount</th><th>tolls_amount</th><th>improvement_surcharge</th><th>total_amount</th><th>congestion_surcharge</th></tr><tr><td>u32</td><td>u32</td><td>u32</td><td>u32</td><td>u32</td><td>u32</td><td>u32</td><td>u32</td><td>u32</td><td>u32</td><td>u32</td><td>u32</td><td>u32</td><td>u32</td><td>u32</td><td>u32</td><td>u32</td><td>u32</td></tr></thead><tbody><tr><td>246601</td><td>0</td><td>0</td><td>246601</td><td>0</td><td>246601</td><td>246601</td><td>0</td><td>0</td><td>246601</td><td>0</td><td>0</td><td>0</td><td>0</td><td>0</td><td>0</td><td>0</td><td>4855981</td></tr></tbody></table></div>"
      ],
      "text/plain": [
       "shape: (1, 18)\n",
       "┌──────────┬───────────┬───────────┬───────────┬───┬───────────┬───────────┬───────────┬───────────┐\n",
       "│ vendorid ┆ tpep_pick ┆ tpep_drop ┆ passenger ┆ … ┆ tolls_amo ┆ improveme ┆ total_amo ┆ congestio │\n",
       "│ ---      ┆ up_dateti ┆ off_datet ┆ _count    ┆   ┆ unt       ┆ nt_surcha ┆ unt       ┆ n_surchar │\n",
       "│ u32      ┆ me        ┆ ime       ┆ ---       ┆   ┆ ---       ┆ rge       ┆ ---       ┆ ge        │\n",
       "│          ┆ ---       ┆ ---       ┆ u32       ┆   ┆ u32       ┆ ---       ┆ u32       ┆ ---       │\n",
       "│          ┆ u32       ┆ u32       ┆           ┆   ┆           ┆ u32       ┆           ┆ u32       │\n",
       "╞══════════╪═══════════╪═══════════╪═══════════╪═══╪═══════════╪═══════════╪═══════════╪═══════════╡\n",
       "│ 246601   ┆ 0         ┆ 0         ┆ 246601    ┆ … ┆ 0         ┆ 0         ┆ 0         ┆ 4855981   │\n",
       "└──────────┴───────────┴───────────┴───────────┴───┴───────────┴───────────┴───────────┴───────────┘"
      ]
     },
     "execution_count": 5,
     "metadata": {},
     "output_type": "execute_result"
    }
   ],
   "source": [
    "DF.null_count()"
   ]
  },
  {
   "cell_type": "markdown",
   "id": "d517bdb0-1337-4890-91c9-ff40b8151784",
   "metadata": {},
   "source": [
    "### Adding Metadata:\n"
   ]
  },
  {
   "cell_type": "code",
   "execution_count": 6,
   "id": "107cb108-5115-4851-b9b0-9b410a0a324f",
   "metadata": {},
   "outputs": [],
   "source": [
    "vendorid = {1: 'Creative Mobile Technologies, LLC', 2: 'VeriFone Inc'}\n",
    "ratecodeid = {1: 'Standard rate', 2: 'JFK', 3: 'Newark', 4:'Nassau or Westchester', 5:'Negotiated fare', 6:'Group ride'}\n",
    "payment_type = {1: 'Credit card', 2: 'Cash', 3: 'No charge', 4: 'Dispute', 5: 'Unknown', 6: 'Voided trip'}"
   ]
  },
  {
   "cell_type": "code",
   "execution_count": 7,
   "id": "ddfacc27-8c03-47dd-a176-c02124cf0a3a",
   "metadata": {
    "tags": []
   },
   "outputs": [],
   "source": [
    "DF = (\n",
    "    DF\n",
    "    .with_columns([\n",
    "        pl.col('tpep_pickup_datetime').dt.date().alias('tpep_pickup_date'),\n",
    "        pl.col('tpep_pickup_datetime').dt.hour().alias('tpep_pickup_hour'),\n",
    "        pl.col('tpep_pickup_datetime').dt.weekday().alias('tpep_pickup_weekday'),\n",
    "        pl.col('tpep_dropoff_datetime').dt.date().alias('tpep_dropoff_date'),\n",
    "        pl.col('tpep_dropoff_datetime').dt.hour().alias('tpep_dropoff_hour'),\n",
    "        pl.col('tpep_dropoff_datetime').dt.weekday().alias('tpep_dropoff_weekday'),\n",
    "        (pl.col('tpep_dropoff_datetime') - pl.col('tpep_pickup_datetime')).dt.total_minutes().alias('trip_duration'),\n",
    "        pl.col('vendorid').replace(vendorid).alias('vendor'),\n",
    "        pl.col('ratecodeid').replace(ratecodeid).alias('ratecode'),\n",
    "        pl.col('payment_type').replace(payment_type).alias('paymenttype')\n",
    "    ])\n",
    "    .drop('vendorid', 'ratecodeid', 'payment_type')\n",
    ")"
   ]
  },
  {
   "cell_type": "markdown",
   "id": "f0288c18-2f19-4048-bddb-0a370106fd8d",
   "metadata": {},
   "source": [
    "### Load taxi zone loockup table:"
   ]
  },
  {
   "cell_type": "code",
   "execution_count": 8,
   "id": "65ba54f0-9fa0-4feb-ac73-8b35a07eac42",
   "metadata": {},
   "outputs": [
    {
     "name": "stdout",
     "output_type": "stream",
     "text": [
      "taxi_zone shape: (265, 4)\n"
     ]
    },
    {
     "data": {
      "text/html": [
       "<div><style>\n",
       ".dataframe > thead > tr,\n",
       ".dataframe > tbody > tr {\n",
       "  text-align: right;\n",
       "  white-space: pre-wrap;\n",
       "}\n",
       "</style>\n",
       "<small>shape: (5, 4)</small><table border=\"1\" class=\"dataframe\"><thead><tr><th>LocationID</th><th>Borough</th><th>Zone</th><th>service_zone</th></tr><tr><td>i32</td><td>str</td><td>str</td><td>str</td></tr></thead><tbody><tr><td>1</td><td>&quot;EWR&quot;</td><td>&quot;Newark Airport…</td><td>&quot;EWR&quot;</td></tr><tr><td>2</td><td>&quot;Queens&quot;</td><td>&quot;Jamaica Bay&quot;</td><td>&quot;Boro Zone&quot;</td></tr><tr><td>3</td><td>&quot;Bronx&quot;</td><td>&quot;Allerton/Pelha…</td><td>&quot;Boro Zone&quot;</td></tr><tr><td>4</td><td>&quot;Manhattan&quot;</td><td>&quot;Alphabet City&quot;</td><td>&quot;Yellow Zone&quot;</td></tr><tr><td>5</td><td>&quot;Staten Island&quot;</td><td>&quot;Arden Heights&quot;</td><td>&quot;Boro Zone&quot;</td></tr></tbody></table></div>"
      ],
      "text/plain": [
       "shape: (5, 4)\n",
       "┌────────────┬───────────────┬─────────────────────────┬──────────────┐\n",
       "│ LocationID ┆ Borough       ┆ Zone                    ┆ service_zone │\n",
       "│ ---        ┆ ---           ┆ ---                     ┆ ---          │\n",
       "│ i32        ┆ str           ┆ str                     ┆ str          │\n",
       "╞════════════╪═══════════════╪═════════════════════════╪══════════════╡\n",
       "│ 1          ┆ EWR           ┆ Newark Airport          ┆ EWR          │\n",
       "│ 2          ┆ Queens        ┆ Jamaica Bay             ┆ Boro Zone    │\n",
       "│ 3          ┆ Bronx         ┆ Allerton/Pelham Gardens ┆ Boro Zone    │\n",
       "│ 4          ┆ Manhattan     ┆ Alphabet City           ┆ Yellow Zone  │\n",
       "│ 5          ┆ Staten Island ┆ Arden Heights           ┆ Boro Zone    │\n",
       "└────────────┴───────────────┴─────────────────────────┴──────────────┘"
      ]
     },
     "execution_count": 8,
     "metadata": {},
     "output_type": "execute_result"
    }
   ],
   "source": [
    "taxi_zones_loockup_fp = path.join(DATA, 'taxi_zone_lookup.csv')\n",
    "\n",
    "taxi_zones = pl.read_csv(taxi_zones_loockup_fp, dtypes=[pl.Int32, pl.String, pl.String, pl.String])\n",
    "print(f'taxi_zone shape: {taxi_zones.shape}')\n",
    "taxi_zones.head()"
   ]
  },
  {
   "cell_type": "markdown",
   "id": "eed85f40-d263-4011-a7a0-7df3faf57926",
   "metadata": {},
   "source": [
    "### Merge two datasets"
   ]
  },
  {
   "cell_type": "markdown",
   "id": "3c0d75e2-e6b0-407a-87a6-829d7c356ece",
   "metadata": {},
   "source": [
    "Check for the key in the taxi zone table by which the merge will be done"
   ]
  },
  {
   "cell_type": "code",
   "execution_count": 9,
   "id": "dbc1e9f5-4e01-4c94-a891-b0c4b2fced1e",
   "metadata": {},
   "outputs": [
    {
     "data": {
      "text/html": [
       "<div><style>\n",
       ".dataframe > thead > tr,\n",
       ".dataframe > tbody > tr {\n",
       "  text-align: right;\n",
       "  white-space: pre-wrap;\n",
       "}\n",
       "</style>\n",
       "<small>shape: (1, 4)</small><table border=\"1\" class=\"dataframe\"><thead><tr><th>LocationID</th><th>Borough</th><th>Zone</th><th>service_zone</th></tr><tr><td>u32</td><td>u32</td><td>u32</td><td>u32</td></tr></thead><tbody><tr><td>265</td><td>7</td><td>262</td><td>5</td></tr></tbody></table></div>"
      ],
      "text/plain": [
       "shape: (1, 4)\n",
       "┌────────────┬─────────┬──────┬──────────────┐\n",
       "│ LocationID ┆ Borough ┆ Zone ┆ service_zone │\n",
       "│ ---        ┆ ---     ┆ ---  ┆ ---          │\n",
       "│ u32        ┆ u32     ┆ u32  ┆ u32          │\n",
       "╞════════════╪═════════╪══════╪══════════════╡\n",
       "│ 265        ┆ 7       ┆ 262  ┆ 5            │\n",
       "└────────────┴─────────┴──────┴──────────────┘"
      ]
     },
     "execution_count": 9,
     "metadata": {},
     "output_type": "execute_result"
    }
   ],
   "source": [
    "(\n",
    "    taxi_zones\n",
    "    .select([\n",
    "        pl.col('LocationID').n_unique(),\n",
    "        pl.col('Borough').n_unique(),\n",
    "        pl.col('Zone').n_unique(),\n",
    "        pl.col('service_zone').n_unique()\n",
    "    ])\n",
    ")"
   ]
  },
  {
   "cell_type": "markdown",
   "id": "2c98fd3e-cdc9-4883-8fc2-8fb6ea739262",
   "metadata": {},
   "source": [
    "We can see that LocationID column has only 260 unique values in a total of 263 rows it must contain either duplicates or null values we will first check for null values"
   ]
  },
  {
   "cell_type": "code",
   "execution_count": 10,
   "id": "e2bc8b15-7ede-4709-8fc7-c3672cf86c56",
   "metadata": {},
   "outputs": [
    {
     "data": {
      "text/html": [
       "<div><style>\n",
       ".dataframe > thead > tr,\n",
       ".dataframe > tbody > tr {\n",
       "  text-align: right;\n",
       "  white-space: pre-wrap;\n",
       "}\n",
       "</style>\n",
       "<small>shape: (1, 4)</small><table border=\"1\" class=\"dataframe\"><thead><tr><th>LocationID</th><th>Borough</th><th>Zone</th><th>service_zone</th></tr><tr><td>u32</td><td>u32</td><td>u32</td><td>u32</td></tr></thead><tbody><tr><td>0</td><td>0</td><td>0</td><td>0</td></tr></tbody></table></div>"
      ],
      "text/plain": [
       "shape: (1, 4)\n",
       "┌────────────┬─────────┬──────┬──────────────┐\n",
       "│ LocationID ┆ Borough ┆ Zone ┆ service_zone │\n",
       "│ ---        ┆ ---     ┆ ---  ┆ ---          │\n",
       "│ u32        ┆ u32     ┆ u32  ┆ u32          │\n",
       "╞════════════╪═════════╪══════╪══════════════╡\n",
       "│ 0          ┆ 0       ┆ 0    ┆ 0            │\n",
       "└────────────┴─────────┴──────┴──────────────┘"
      ]
     },
     "execution_count": 10,
     "metadata": {},
     "output_type": "execute_result"
    }
   ],
   "source": [
    "taxi_zones.null_count()"
   ]
  },
  {
   "cell_type": "markdown",
   "id": "3b9a6ef9-1ff3-4203-b038-62c4c7eaed70",
   "metadata": {},
   "source": [
    "We can see in the previous output that taxi_zone does not contain any null value so we ll check for duplicate values"
   ]
  },
  {
   "cell_type": "code",
   "execution_count": 12,
   "id": "8762e0ac-2fa5-478c-9e0e-efcd2d76692c",
   "metadata": {},
   "outputs": [],
   "source": [
    "DF = (\n",
    "    DF\n",
    "    .join(taxi_zones, left_on='pulocationid', right_on='LocationID')\n",
    "    .join(taxi_zones, left_on='dolocationid', right_on='LocationID', suffix='_do')\n",
    "    .rename({'Borough': 'puborough', 'Zone': 'puzone', 'service_zone': 'pu_service_zone', 'paymenttype': 'payment_type',\n",
    "            'Borough_do': 'doborough', 'Zone_do': 'dozone', 'service_zone_do': 'do_service_zone'})\n",
    "    .drop('pulocationid', 'bolocationid')\n",
    ")"
   ]
  },
  {
   "cell_type": "code",
   "execution_count": 13,
   "id": "000cc225-9a0b-47c0-bcc3-113cfeb6493c",
   "metadata": {},
   "outputs": [
    {
     "data": {
      "text/html": [
       "<div><style>\n",
       ".dataframe > thead > tr,\n",
       ".dataframe > tbody > tr {\n",
       "  text-align: right;\n",
       "  white-space: pre-wrap;\n",
       "}\n",
       "</style>\n",
       "<small>shape: (5, 30)</small><table border=\"1\" class=\"dataframe\"><thead><tr><th>tpep_pickup_datetime</th><th>tpep_dropoff_datetime</th><th>passenger_count</th><th>trip_distance</th><th>store_and_fwd_flag</th><th>dolocationid</th><th>fare_amount</th><th>extra</th><th>mta_tax</th><th>tip_amount</th><th>tolls_amount</th><th>improvement_surcharge</th><th>total_amount</th><th>congestion_surcharge</th><th>tpep_pickup_date</th><th>tpep_pickup_hour</th><th>tpep_pickup_weekday</th><th>tpep_dropoff_date</th><th>tpep_dropoff_hour</th><th>tpep_dropoff_weekday</th><th>trip_duration</th><th>vendor</th><th>ratecode</th><th>payment_type</th><th>puborough</th><th>puzone</th><th>pu_service_zone</th><th>doborough</th><th>dozone</th><th>do_service_zone</th></tr><tr><td>datetime[μs]</td><td>datetime[μs]</td><td>i32</td><td>f32</td><td>str</td><td>i32</td><td>f32</td><td>f32</td><td>f32</td><td>f32</td><td>f32</td><td>f32</td><td>f32</td><td>f32</td><td>date</td><td>i8</td><td>i8</td><td>date</td><td>i8</td><td>i8</td><td>i64</td><td>str</td><td>str</td><td>str</td><td>str</td><td>str</td><td>str</td><td>str</td><td>str</td><td>str</td></tr></thead><tbody><tr><td>2019-05-01 00:14:50</td><td>2019-05-01 00:16:48</td><td>1</td><td>0.0</td><td>&quot;N&quot;</td><td>145</td><td>3.0</td><td>0.5</td><td>0.5</td><td>0.0</td><td>0.0</td><td>0.3</td><td>4.3</td><td>0.0</td><td>2019-05-01</td><td>0</td><td>3</td><td>2019-05-01</td><td>0</td><td>3</td><td>1</td><td>&quot;Creative Mobil…</td><td>&quot;Standard rate&quot;</td><td>&quot;Cash&quot;</td><td>&quot;Queens&quot;</td><td>&quot;Long Island Ci…</td><td>&quot;Boro Zone&quot;</td><td>&quot;Queens&quot;</td><td>&quot;Long Island Ci…</td><td>&quot;Boro Zone&quot;</td></tr><tr><td>2019-05-01 00:35:54</td><td>2019-05-01 00:37:27</td><td>1</td><td>1.5</td><td>&quot;N&quot;</td><td>145</td><td>3.0</td><td>0.5</td><td>0.5</td><td>0.0</td><td>0.0</td><td>0.3</td><td>4.3</td><td>0.0</td><td>2019-05-01</td><td>0</td><td>3</td><td>2019-05-01</td><td>0</td><td>3</td><td>1</td><td>&quot;Creative Mobil…</td><td>&quot;Standard rate&quot;</td><td>&quot;Cash&quot;</td><td>&quot;Queens&quot;</td><td>&quot;Long Island Ci…</td><td>&quot;Boro Zone&quot;</td><td>&quot;Queens&quot;</td><td>&quot;Long Island Ci…</td><td>&quot;Boro Zone&quot;</td></tr><tr><td>2019-05-01 00:37:45</td><td>2019-05-01 00:37:49</td><td>1</td><td>1.5</td><td>&quot;N&quot;</td><td>145</td><td>2.5</td><td>0.5</td><td>0.5</td><td>0.0</td><td>0.0</td><td>0.3</td><td>3.8</td><td>0.0</td><td>2019-05-01</td><td>0</td><td>3</td><td>2019-05-01</td><td>0</td><td>3</td><td>0</td><td>&quot;Creative Mobil…</td><td>&quot;Standard rate&quot;</td><td>&quot;Cash&quot;</td><td>&quot;Queens&quot;</td><td>&quot;Long Island Ci…</td><td>&quot;Boro Zone&quot;</td><td>&quot;Queens&quot;</td><td>&quot;Long Island Ci…</td><td>&quot;Boro Zone&quot;</td></tr><tr><td>2019-05-01 00:44:57</td><td>2019-05-01 00:50:11</td><td>1</td><td>0.7</td><td>&quot;N&quot;</td><td>161</td><td>5.0</td><td>3.0</td><td>0.5</td><td>0.0</td><td>0.0</td><td>0.3</td><td>8.8</td><td>2.5</td><td>2019-05-01</td><td>0</td><td>3</td><td>2019-05-01</td><td>0</td><td>3</td><td>5</td><td>&quot;Creative Mobil…</td><td>&quot;Standard rate&quot;</td><td>&quot;Cash&quot;</td><td>&quot;Manhattan&quot;</td><td>&quot;Midtown Center…</td><td>&quot;Yellow Zone&quot;</td><td>&quot;Manhattan&quot;</td><td>&quot;Midtown Center…</td><td>&quot;Yellow Zone&quot;</td></tr><tr><td>2019-05-01 00:59:48</td><td>2019-05-01 01:10:22</td><td>1</td><td>2.0</td><td>&quot;N&quot;</td><td>141</td><td>9.5</td><td>3.0</td><td>0.5</td><td>2.0</td><td>0.0</td><td>0.3</td><td>15.3</td><td>2.5</td><td>2019-05-01</td><td>0</td><td>3</td><td>2019-05-01</td><td>1</td><td>3</td><td>10</td><td>&quot;Creative Mobil…</td><td>&quot;Standard rate&quot;</td><td>&quot;Credit card&quot;</td><td>&quot;Manhattan&quot;</td><td>&quot;Midtown North&quot;</td><td>&quot;Yellow Zone&quot;</td><td>&quot;Manhattan&quot;</td><td>&quot;Lenox Hill Wes…</td><td>&quot;Yellow Zone&quot;</td></tr></tbody></table></div>"
      ],
      "text/plain": [
       "shape: (5, 30)\n",
       "┌───────────┬───────────┬───────────┬───────────┬───┬───────────┬───────────┬───────────┬──────────┐\n",
       "│ tpep_pick ┆ tpep_drop ┆ passenger ┆ trip_dist ┆ … ┆ pu_servic ┆ doborough ┆ dozone    ┆ do_servi │\n",
       "│ up_dateti ┆ off_datet ┆ _count    ┆ ance      ┆   ┆ e_zone    ┆ ---       ┆ ---       ┆ ce_zone  │\n",
       "│ me        ┆ ime       ┆ ---       ┆ ---       ┆   ┆ ---       ┆ str       ┆ str       ┆ ---      │\n",
       "│ ---       ┆ ---       ┆ i32       ┆ f32       ┆   ┆ str       ┆           ┆           ┆ str      │\n",
       "│ datetime[ ┆ datetime[ ┆           ┆           ┆   ┆           ┆           ┆           ┆          │\n",
       "│ μs]       ┆ μs]       ┆           ┆           ┆   ┆           ┆           ┆           ┆          │\n",
       "╞═══════════╪═══════════╪═══════════╪═══════════╪═══╪═══════════╪═══════════╪═══════════╪══════════╡\n",
       "│ 2019-05-0 ┆ 2019-05-0 ┆ 1         ┆ 0.0       ┆ … ┆ Boro Zone ┆ Queens    ┆ Long      ┆ Boro     │\n",
       "│ 1         ┆ 1         ┆           ┆           ┆   ┆           ┆           ┆ Island    ┆ Zone     │\n",
       "│ 00:14:50  ┆ 00:16:48  ┆           ┆           ┆   ┆           ┆           ┆ City/Hunt ┆          │\n",
       "│           ┆           ┆           ┆           ┆   ┆           ┆           ┆ ers Point ┆          │\n",
       "│ 2019-05-0 ┆ 2019-05-0 ┆ 1         ┆ 1.5       ┆ … ┆ Boro Zone ┆ Queens    ┆ Long      ┆ Boro     │\n",
       "│ 1         ┆ 1         ┆           ┆           ┆   ┆           ┆           ┆ Island    ┆ Zone     │\n",
       "│ 00:35:54  ┆ 00:37:27  ┆           ┆           ┆   ┆           ┆           ┆ City/Hunt ┆          │\n",
       "│           ┆           ┆           ┆           ┆   ┆           ┆           ┆ ers Point ┆          │\n",
       "│ 2019-05-0 ┆ 2019-05-0 ┆ 1         ┆ 1.5       ┆ … ┆ Boro Zone ┆ Queens    ┆ Long      ┆ Boro     │\n",
       "│ 1         ┆ 1         ┆           ┆           ┆   ┆           ┆           ┆ Island    ┆ Zone     │\n",
       "│ 00:37:45  ┆ 00:37:49  ┆           ┆           ┆   ┆           ┆           ┆ City/Hunt ┆          │\n",
       "│           ┆           ┆           ┆           ┆   ┆           ┆           ┆ ers Point ┆          │\n",
       "│ 2019-05-0 ┆ 2019-05-0 ┆ 1         ┆ 0.7       ┆ … ┆ Yellow    ┆ Manhattan ┆ Midtown   ┆ Yellow   │\n",
       "│ 1         ┆ 1         ┆           ┆           ┆   ┆ Zone      ┆           ┆ Center    ┆ Zone     │\n",
       "│ 00:44:57  ┆ 00:50:11  ┆           ┆           ┆   ┆           ┆           ┆           ┆          │\n",
       "│ 2019-05-0 ┆ 2019-05-0 ┆ 1         ┆ 2.0       ┆ … ┆ Yellow    ┆ Manhattan ┆ Lenox     ┆ Yellow   │\n",
       "│ 1         ┆ 1         ┆           ┆           ┆   ┆ Zone      ┆           ┆ Hill West ┆ Zone     │\n",
       "│ 00:59:48  ┆ 01:10:22  ┆           ┆           ┆   ┆           ┆           ┆           ┆          │\n",
       "└───────────┴───────────┴───────────┴───────────┴───┴───────────┴───────────┴───────────┴──────────┘"
      ]
     },
     "execution_count": 13,
     "metadata": {},
     "output_type": "execute_result"
    }
   ],
   "source": [
    "DF.head()"
   ]
  },
  {
   "cell_type": "code",
   "execution_count": 14,
   "id": "e273df73-a41d-4fa5-8756-7a2875054071",
   "metadata": {},
   "outputs": [
    {
     "data": {
      "text/plain": [
       "(84399019, 30)"
      ]
     },
     "execution_count": 14,
     "metadata": {},
     "output_type": "execute_result"
    }
   ],
   "source": [
    "DF.shape"
   ]
  },
  {
   "cell_type": "markdown",
   "id": "a16fd867-8ab6-4cd8-80e3-0c3db2366d09",
   "metadata": {},
   "source": [
    "## EDA:"
   ]
  },
  {
   "cell_type": "code",
   "execution_count": null,
   "id": "4c6c0266-e131-44cf-8323-be0edb019647",
   "metadata": {},
   "outputs": [],
   "source": []
  }
 ],
 "metadata": {
  "kernelspec": {
   "display_name": "Python 3 (ipykernel)",
   "language": "python",
   "name": "python3"
  },
  "language_info": {
   "codemirror_mode": {
    "name": "ipython",
    "version": 3
   },
   "file_extension": ".py",
   "mimetype": "text/x-python",
   "name": "python",
   "nbconvert_exporter": "python",
   "pygments_lexer": "ipython3",
   "version": "3.9.18"
  }
 },
 "nbformat": 4,
 "nbformat_minor": 5
}
